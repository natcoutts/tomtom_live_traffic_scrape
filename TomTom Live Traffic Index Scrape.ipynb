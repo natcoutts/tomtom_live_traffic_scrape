{
 "cells": [
  {
   "cell_type": "markdown",
   "metadata": {},
   "source": [
    "## TomTom Live Traffic Index Scrape"
   ]
  },
  {
   "cell_type": "markdown",
   "metadata": {},
   "source": [
    "This code retrieves the live traffic json from TomTom, and cleans this data to replicate the live chart shown on the webpage. Add in URL of Medium article explaining this further. Make another change."
   ]
  },
  {
   "cell_type": "code",
   "execution_count": null,
   "metadata": {},
   "outputs": [],
   "source": [
    "%matplotlib inline\n",
    "import matplotlib.pyplot as plt\n",
    "import plotly.express as px\n",
    "import pandas as pd\n",
    "import json\n",
    "import requests\n",
    "\n",
    "# retrieve json file\n",
    "url = \"https://api.midway.tomtom.com/ranking/live/ITA_milan\"\n",
    "milan_req = requests.get(url)\n",
    "miln_json = milan_req.json()\n",
    "\n",
    "pd.set_option(\"display.max_rows\", False)\n"
   ]
  },
  {
   "cell_type": "code",
   "execution_count": null,
   "metadata": {
    "scrolled": true
   },
   "outputs": [],
   "source": [
    "# create empty lists of append data\n",
    "live_traffic = []\n",
    "time = []\n",
    "\n",
    "count = len(italy_json[\"data\"])-1\n",
    "\n",
    "# append each item in the json file to the empty lists\n",
    "i=0\n",
    "while i<=count:\n",
    "    live_traffic.append(milan_json[\"data\"][i][\"TrafficIndexLive\"])\n",
    "    time.append(milan_json[\"data\"][i][\"UpdateTime\"])\n",
    "    i+=1\n",
    "    \n",
    "# create dataframe with the traffic data \n",
    "df = pd.DataFrame({\"Live Traffic\":live_traffic}, index=time)\n",
    "df.index = pd.to_datetime(df.index, unit=\"ms\")\n",
    "df.index.name = \"Time\"\n",
    "df.head()"
   ]
  },
  {
   "cell_type": "code",
   "execution_count": null,
   "metadata": {},
   "outputs": [],
   "source": [
    "plt.style.use(\"ggplot\")\n",
    "ax = df.plot(color=\"Green\")\n",
    "plt.title(\"Milan Traffic\")\n",
    "plt.legend(loc=2)\n",
    "#plt.box(False)"
   ]
  }
 ],
 "metadata": {
  "kernelspec": {
   "display_name": "Python 3",
   "language": "python",
   "name": "python3"
  },
  "language_info": {
   "codemirror_mode": {
    "name": "ipython",
    "version": 3
   },
   "file_extension": ".py",
   "mimetype": "text/x-python",
   "name": "python",
   "nbconvert_exporter": "python",
   "pygments_lexer": "ipython3",
   "version": "3.7.3"
  }
 },
 "nbformat": 4,
 "nbformat_minor": 4
}